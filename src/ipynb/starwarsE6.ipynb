{
 "cells": [
  {
   "cell_type": "code",
   "execution_count": 3,
   "metadata": {
    "scrolled": true
   },
   "outputs": [
    {
     "name": "stdout",
     "output_type": "stream",
     "text": [
      "{'Boba Fett', 'Natoota', 'Sullust', 'Nien Nunb', 'Imperial Star', 'Right', 'Owen', 'Carry', 'Bury', 'Lord Vader', 'Move', 'Boushh', 'Lando', 'Mon Calamari', 'George Lucas Third Draft Property', 'Wait', 'Chewie', 'Rebel Fleet', 'Tatooine', 'Ackbar', 'Your Worshipfulness', 'Paploo', 'Luke', 'Ewoks', 'Green Group', 'Endor', 'Copy', 'Bib', 'Code Clearance Blue', 'Artoo', 'PIETT Intensify', 'Luke Skywalker', 'Okay', 'Hurry', 'Baron', 'Beyond', 'Sky', 'Sparks', 'Rebels', 'Seethreepiowha', 'Soon', 'Super Star Destroyer', 'Hmmm', 'George Lucas', 'Wicket', 'Everyone', 'Han Solo', 'Again Han', 'Cloud City', 'Super Star', 'Red Group', 'Rebel Star Cruiser', 'Sail Barge', 'Sloppy', 'Freeze', 'Leia', 'Wanga', 'Skiffs', 'Darth Vader', 'Sarlacc', 'Caught', 'How', 'Huttese', 'Death Star', 'Madine', 'Boba', 'Jabba', 'Fine', 'Fearless', 'Slowly', 'PIETT Hold', 'Where', 'Yoda', 'Anakin', 'Mother Ewoks', 'Scout', 'Squad', 'Look', 'Again Vader', 'Quickly', 'Biker', 'Bib Fortuna', 'Lucasfilm Ltd', 'Anger', 'Han', 'Lawrence Kasdan', 'Logray', 'Gift', 'Shuttle Tydirium', 'Somehow', 'Organa', 'Millennium Falcon', 'Kind', 'Piett', 'Old', 'Barge', 'Ben Kenobi', 'Stand', 'Wedge', 'Outside', 'Threepio', 'Great', 'Master', 'Trouble', 'Guard', 'Anakin Skywalker', 'Grab', 'Me', 'Oola', 'Alderaan', 'Die Wan', 'Ben', 'Center', 'Little', 'Rebel', 'Jedi', 'Captain Solo', 'Lando Calrissian', 'Hutt', 'Bantha', 'Pass', 'Solo', 'Hmm', 'Salacious Crumb', 'Salacious', 'Teebo', 'Jedi Knight', 'Mon Mothma', 'Father', 'Episode VI RETURN', 'Pull', 'Transports', 'Good', 'Finally', 'Guards', 'Chewbacca', 'PIETT Shall', 'Master Luke', 'Vader', 'Jerjerrod', 'Your Greatness', 'Imperial TIE'}\n"
     ]
    },
    {
     "name": "stderr",
     "output_type": "stream",
     "text": [
      "[nltk_data] Downloading package averaged_perceptron_tagger to\n",
      "[nltk_data]     C:\\Users\\Gabriel Short\\AppData\\Roaming\\nltk_data...\n",
      "[nltk_data]   Package averaged_perceptron_tagger is already up-to-\n",
      "[nltk_data]       date!\n",
      "[nltk_data] Downloading package maxent_ne_chunker to C:\\Users\\Gabriel\n",
      "[nltk_data]     Short\\AppData\\Roaming\\nltk_data...\n",
      "[nltk_data]   Package maxent_ne_chunker is already up-to-date!\n",
      "[nltk_data] Downloading package words to C:\\Users\\Gabriel\n",
      "[nltk_data]     Short\\AppData\\Roaming\\nltk_data...\n",
      "[nltk_data]   Package words is already up-to-date!\n"
     ]
    }
   ],
   "source": [
    "import nltk\n",
    "nltk.download('averaged_perceptron_tagger')\n",
    "nltk.download('maxent_ne_chunker')\n",
    "nltk.download('words')\n",
    "from nltk import ne_chunk, pos_tag, word_tokenize\n",
    "from nltk.tree import Tree\n",
    "import re\n",
    "file = open(\"Episode_VI.txt\", encoding=\"utf-8\")\n",
    "\n",
    "\n",
    "script = file.read()\n",
    "\n",
    "script = script.replace(\"EXT.\", \"INT.\")\n",
    "script = script.replace(r'(INT.).*', \"INT.\")\n",
    "scenes = script.split(\"INT.\")\n",
    "\n",
    "# Not a super nice way to do this, but you can also try to use this code in conjunction with get_chars to get more characters in a scene\n",
    "# It just matches for capital words with spaces in scenes, which unfortunately also gets scene descriptions :(\n",
    "def get_characters(str):\n",
    "    chars = set()\n",
    "    for line in str.splitlines():\n",
    "        #match = re.match(r'(?:([A-Z]+ *[A-Z]+)\\n).*?(?=$|([A-Z]+ *[A-Z]+)\\n)', line)\n",
    "        match = re.match(r'(\\s+\\/*)([A-Z].*)', line)\n",
    "        if line.isupper():\n",
    "            chars.add(line.strip().lower())\n",
    "    return chars\n",
    "\n",
    "def get_chars(scene):\n",
    "    characters = set()\n",
    "    nltk_results = ne_chunk(pos_tag(word_tokenize(scene)))\n",
    "    for nltk_result in nltk_results:\n",
    "        if type(nltk_result) == Tree and nltk_result.label() == \"PERSON\":\n",
    "            name = ''\n",
    "            for nltk_result_leaf in nltk_result.leaves():\n",
    "                name += nltk_result_leaf[0] + ' '\n",
    "            characters.add(name.strip())\n",
    "    return characters\n",
    "\n",
    "print (all_chars)\n",
    "# alls = set()\n",
    "# for scene in scenes:\n",
    "#     alls |= get_characters(scene)\n",
    "#     alls |= get_characters(scene)\n",
    "# print(alls)\n"
   ]
  },
  {
   "cell_type": "code",
   "execution_count": 2,
   "metadata": {},
   "outputs": [
    {
     "name": "stdout",
     "output_type": "stream",
     "text": [
      "{'Boba Fett', 'Nien Nunb', 'Anakin Skywalker', 'Yoda', 'Oola', 'Wicket', 'Obi-Wan Kenobi', 'Han Solo', 'Rebel Trooper', 'Lando Calrissian', 'Princess Leia', 'Jabba the Hutt', 'Bib Fortuna', 'Admiral Piett', 'Salacious Crumb', 'Logray', 'Paploo', 'Teebo', 'Mon Mothma', 'C-3P0', 'R2-D2', 'Ewoks', 'Moff Jerjerrod', 'General Madine', 'Darth Vader', 'Luke Skywalker', 'Wedge Antilles', 'Chewbacca', 'Admiral Ackbar'}\n"
     ]
    }
   ],
   "source": [
    "def resolve_characters(set_people):\n",
    "    all_people = {\n",
    "        \"Luke Skywalker\": [\"Luke\", \"Luke Skywalker\", \"kid\", \"Master Luke\", \"Red Five\", \"Skywalker\", \"Jedi Knight\"],\n",
    "        \"Obi-Wan Kenobi\": [\"Old Ben\", \"Ben Kenobi\", \"Old Man\", \"Kenobi\", \"Obi-Wan\", \"Obi-Wan Kenobi\", \"Ben\"],\n",
    "        \"Chewbacca\": [\"Chewbacca\", \"Chewie\", \"Wookie\"],\n",
    "        \"Han Solo\": [\"Han\", \"Solo\", \"Han Solo\", \"Captain Solo\", \"Again Han\"],\n",
    "        \"Princess Leia\": [\"Leia\", \"Princess Leia\", \"Your Worshipfulness\", \"Your Highness\", \"Princess\", \"Leia Organa\", \"Boushh\"],\n",
    "        \"C-3P0\": [\"Threepio\", \"C-3PO\", \"See-Threepio\", \"Seethreepiowha\"],\n",
    "        \"R2-D2\": [\"Artoo\", \"R2-D2\", \"Artoo Deetoo\", \"Little Artoo\"],\n",
    "        \"Jawa\": [\"Jawa\", \"Jawas\"],\n",
    "        \"Tusken Raider\": [\"Sand People\", \"Tuskens\", \"Tusken Raider\", \"Tusken\", \"Raider\", \"Tusken Raiders\"],\n",
    "        \"Darth Vader\": [\"Lord Vader\", \"Darth Vader\", \"Vader\", \"Darth\", \"Father\"],\n",
    "        \"Wedge Antilles\": [\"Wedge\", \"Wedge Antilles\", \"Red Leader\"],\n",
    "        \"Rebel Officer\": [\"Rebel Officer\"],\n",
    "        \"Jabba the Hutt\": [\"Jabba\", \"Jabba the Hutt\", \"Hutt\"],\n",
    "        \"Stormtrooper\": [\"Troops\", \"stormtrooper\", \"stormtroopers\", \"trooper\"],\n",
    "        \"Rebel Trooper\": [\"Rebel\", \"Rebels\", \"Rebel Trooper\", \"Rebel Troops\"],\n",
    "        \"Imperial Officer\": [\"Imperial Officer\", \"commander\", \"bunker commander\", \"Imperial soldier\"],\n",
    "        \"Lando Calrissian\": [\"Lando\", \"Lando Calrissian\", \"Calrissian\", \"Gold Leader\"],\n",
    "        \"Admiral Piett\": [\"Admiral Piett\", \"Piett\", \"PIETT Hold\", \"PIETT Shall\", \"PIETT Intensify\"],\n",
    "        \"Boba Fett\": [\"Boba Fett\", \"Boba\"],\n",
    "        \"Logray\": [\"Logray\"],\n",
    "        \"Chief Chirpa\": [\"Chief Chirpa\"],\n",
    "        \"Ewoks\": [\"Ewoks\"],\n",
    "        \"Wicket\": [\"Wicket\"],\n",
    "        \"Nien Nunb\": [\"Nien Nunb\"],\n",
    "        \"Yoda\": [\"Yoda\"],\n",
    "        \"General Madine\": [\"Madine\", \"General Madine\"],\n",
    "        \"Mon Mothma\": [\"Mon Mothma\", \"Mon\", \"Mothma\"],\n",
    "        \"Paploo\": [\"Paploo\"],\n",
    "        \"Admiral Ackbar\": [\"Ackbar\", \"Admiral Ackbar\"],\n",
    "        \"Bib Fortuna\": [\"Bib\", \"Bib Fortuna\", \"Fortuna\"],\n",
    "        \"Shuttle Captain\": [\"Shuttle Captain\"],\n",
    "        \"Moff Jerjerrod\": [\"Jerjerrod\", \"Moff Jerjerrod\"],\n",
    "        \"Palpatine\": [\"Emperor\", \"Palpatine\"],\n",
    "        \"Gamorrean Guard\": [\"Gamorrean Guard\", \"Gamorrean\"],\n",
    "        \"Salacious Crumb\": [\"Salacious Crumb\", \"Crumb\", \"Salacious\"],\n",
    "        \"Oola\": [\"Oola\"],\n",
    "        \"EV-9D9\": [\"EV-9D9\", \"Ninedenine\"],\n",
    "        \"Rancor Keeper\": [\"Keeper\"],\n",
    "        \"Flight Controller\": [\"Controller\"],\n",
    "        \"Imperial Scout Trooper\": [\"Imperial scouts\", \"scout\", \"biker scouts\"],\n",
    "        \"Royal Guards\": [\"Imperial Guards\", \"red-cloaked guards\"],\n",
    "        \"Teebo\": [\"Teebo\"],\n",
    "        \"Gray Leader\": [\"Grey Leader\"],\n",
    "        \"Green Leader\": [\"Green Leader\"],\n",
    "        \"Red Leader\": [\"Red Leader\"],\n",
    "        \"Rebel Pilot\": [\"Rebel Pilot\", \"Y-Wing Pilot\", \"Pilot\", \"X-wings pilots\"],\n",
    "        \"Red Two\": [\"Red Two\"],\n",
    "        \"Red Three\": [\"Red Three\"],\n",
    "        \"Walker Pilot\": [\"Walker Pilot\"],\n",
    "        \"Anakin Skywalker\": [\"Anakin Skywalker\", \"Anakin\"],\n",
    "        \n",
    "    }\n",
    "    return_set = set()\n",
    "    for item in all_people:\n",
    "        for thing_string in set_people:\n",
    "            arr = all_people[item]\n",
    "            if thing_string in arr:\n",
    "                return_set.add(item)\n",
    "    return return_set\n",
    "    \n",
    "\n",
    "\n",
    "# name = \"Luke\"\n",
    "set_people = {\"Luke Skywalker\", \"Obi-Wan Kenobi\", \"Chewbacca\", \"Han Solo\", \"Princess Leia\", \"C-3PO\", \"R2-D2\", \"Jawa\",\\\n",
    "              \"Tusken Raider\", \"Darth Vader\", \"Wedge Antilles\", \"Rebel Officer\", \"Jabba the Hutt\", \"Stormtrooper\",\\\n",
    "              \"Imperial Officer\", \"Lando Calrissian\", \"Admiral Piett\", \"Boba Fett\", \"Logray\", \"Chief Chirpa\", \"Ewoks\",\\\n",
    "              \"Wicket\", \"Nien Nunb\", \"Yoda\", \"General Madine\", \"Mon Mothma\", \"Paploo\", \"Admiral Ackbar\", \"Bib Fortuna\",\\\n",
    "              \"Shuttle Captain\", \"Moff Jerjerrod\", \"Palpatine\", \"Gamorrean Guard\", \"Salacious Crumb\", \"Oola\", \"EV-9D9\",\\\n",
    "              \"Rancor Keeper\", \"Flight Controller\", \"Imperial Scout Trooper\", \"Royal Guards\", \"Teebo\", \"Gray Leader\",\\\n",
    "              \"Green Leader\", \"Rebel Pilot\", \"Red Two\", \"Red Three\", \"Walker Pilot\", \"Anakin Skywalker\"}\n",
    "\n",
    "# print(resolve_characters(set_people))\n",
    "\n",
    "\n",
    "# print(resolve_characters(\"Luke Skywalker\"))\n",
    "\n",
    "all_chars = set()\n",
    "for scene in scenes:\n",
    "    chars = get_chars(scene)\n",
    "    print(resolve_characters(chars))\n",
    "    if len(chars) != 0:\n",
    "        all_chars |= chars\n"
   ]
  },
  {
   "cell_type": "code",
   "execution_count": null,
   "metadata": {},
   "outputs": [],
   "source": []
  }
 ],
 "metadata": {
  "kernelspec": {
   "display_name": "Python 3 (ipykernel)",
   "language": "python",
   "name": "python3"
  },
  "language_info": {
   "codemirror_mode": {
    "name": "ipython",
    "version": 3
   },
   "file_extension": ".py",
   "mimetype": "text/x-python",
   "name": "python",
   "nbconvert_exporter": "python",
   "pygments_lexer": "ipython3",
   "version": "3.10.4"
  },
  "vscode": {
   "interpreter": {
    "hash": "369f2c481f4da34e4445cda3fffd2e751bd1c4d706f27375911949ba6bb62e1c"
   }
  }
 },
 "nbformat": 4,
 "nbformat_minor": 2
}
